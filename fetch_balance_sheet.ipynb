{
  "nbformat": 4,
  "nbformat_minor": 0,
  "metadata": {
    "colab": {
      "provenance": [],
      "gpuType": "T4",
      "authorship_tag": "ABX9TyOBcn/TW0jddqxIFBVSq4RB",
      "include_colab_link": true
    },
    "kernelspec": {
      "name": "python3",
      "display_name": "Python 3"
    },
    "language_info": {
      "name": "python"
    },
    "accelerator": "GPU"
  },
  "cells": [
    {
      "cell_type": "markdown",
      "metadata": {
        "id": "view-in-github",
        "colab_type": "text"
      },
      "source": [
        "<a href=\"https://colab.research.google.com/github/datajcthemax/Dynamic-Indices-cluster/blob/jai/fetch_balance_sheet.ipynb\" target=\"_parent\"><img src=\"https://colab.research.google.com/assets/colab-badge.svg\" alt=\"Open In Colab\"/></a>"
      ]
    },
    {
      "cell_type": "code",
      "execution_count": 1,
      "metadata": {
        "id": "9MJVcdRz6MrL"
      },
      "outputs": [],
      "source": [
        "import pandas as pd"
      ]
    },
    {
      "cell_type": "code",
      "source": [
        "import pandas as pd\n",
        "import requests\n",
        "\n",
        "# 데이터를 가져올 URL\n",
        "url = \"https://www.alphavantage.co/query?function=BALANCE_SHEET&symbol=AAPL&apikey=QA7AWI9EFI267BNJ\"\n",
        "\n",
        "# requests를 사용하여 URL에서 데이터를 가져옴\n",
        "response = requests.get(url)\n",
        "data = response.json()\n",
        "\n",
        "# 알파밴티지 API 응답에서 'annualReports' 키를 사용하여 연간 재무제표 데이터를 추출\n",
        "# (주: 'annualReports' 또는 다른 키 이름이 변경될 수 있으므로 실제 응답 구조를 확인하십시오.)\n",
        "annual_reports = data['annualReports']\n",
        "\n",
        "# 데이터를 pandas DataFrame으로 변환\n",
        "df = pd.DataFrame(annual_reports)\n",
        "\n",
        "print(df.head())  # 처음 5개의 데이터 행을 출력\n"
      ],
      "metadata": {
        "colab": {
          "base_uri": "https://localhost:8080/"
        },
        "id": "x7xlQGoP6QUj",
        "outputId": "142fb9db-b742-431a-9f36-6a6de872d0e8"
      },
      "execution_count": 2,
      "outputs": [
        {
          "output_type": "stream",
          "name": "stdout",
          "text": [
            "  fiscalDateEnding reportedCurrency   totalAssets totalCurrentAssets  \\\n",
            "0       2022-09-30              USD  352755000000       135405000000   \n",
            "1       2021-09-30              USD  351002000000       134836000000   \n",
            "2       2020-09-30              USD  323888000000       143713000000   \n",
            "3       2019-09-30              USD  338516000000       162819000000   \n",
            "4       2018-09-30              USD  365725000000       131339000000   \n",
            "\n",
            "  cashAndCashEquivalentsAtCarryingValue cashAndShortTermInvestments  \\\n",
            "0                           23646000000                 48304000000   \n",
            "1                           34940000000                 62639000000   \n",
            "2                           38016000000                 90943000000   \n",
            "3                           48844000000                100557000000   \n",
            "4                           25913000000                 25913000000   \n",
            "\n",
            "    inventory currentNetReceivables totalNonCurrentAssets  \\\n",
            "0  4946000000           60932000000          217350000000   \n",
            "1  6580000000           51506000000          216166000000   \n",
            "2  4061000000           37445000000          180175000000   \n",
            "3  4106000000           45804000000          175697000000   \n",
            "4  3956000000           48995000000          234386000000   \n",
            "\n",
            "  propertyPlantEquipment  ... currentLongTermDebt longTermDebtNoncurrent  \\\n",
            "0            42117000000  ...         11128000000            98959000000   \n",
            "1            39440000000  ...          9613000000           109106000000   \n",
            "2            36766000000  ...          8773000000            98667000000   \n",
            "3            37378000000  ...         10260000000            91807000000   \n",
            "4            41304000000  ...          8784000000            93735000000   \n",
            "\n",
            "  shortLongTermDebtTotal otherCurrentLiabilities otherNonCurrentLiabilities  \\\n",
            "0           233256000000             60845000000                49142000000   \n",
            "1           241783000000             47493000000                53325000000   \n",
            "2           216860000000             42684000000                54490000000   \n",
            "3           209135000000             37720000000                50503000000   \n",
            "4           220132000000             33327000000                48914000000   \n",
            "\n",
            "  totalShareholderEquity treasuryStock retainedEarnings  commonStock  \\\n",
            "0            50672000000          None      -3068000000  64849000000   \n",
            "1            63090000000          None       5562000000  57365000000   \n",
            "2            65339000000          None      14966000000  50779000000   \n",
            "3            90488000000          None      45898000000  45174000000   \n",
            "4           107147000000          None      70400000000  40201000000   \n",
            "\n",
            "  commonStockSharesOutstanding  \n",
            "0                  15943425000  \n",
            "1                  16426786000  \n",
            "2                  16976763000  \n",
            "3                   4443236000  \n",
            "4                   4754986000  \n",
            "\n",
            "[5 rows x 38 columns]\n"
          ]
        }
      ]
    },
    {
      "cell_type": "code",
      "source": [
        "# DataFrame을 CSV 파일로 저장\n",
        "df.to_csv(\"apple_balance_sheet.csv\", index=False)  # index=False는 인덱스 정보를 CSV에 포함시키지 않도록 합니다."
      ],
      "metadata": {
        "id": "lVBqCIWc69Ru"
      },
      "execution_count": 3,
      "outputs": []
    },
    {
      "cell_type": "code",
      "source": [
        "# 앞선 코드의 연장...\n",
        "\n",
        "# DataFrame을 전치\n",
        "transposed_df = df.transpose()\n",
        "\n",
        "# 전치된 DataFrame의 첫 번째 행이 년도이므로 이를 칼럼으로 설정\n",
        "transposed_df.columns = transposed_df.iloc[0]\n",
        "transposed_df = transposed_df.drop(transposed_df.index[0])  # 년도를 칼럼으로 설정한 후, 원래의 년도 행을 삭제\n",
        "\n",
        "# CSV 파일로 저장\n",
        "transposed_df.to_csv(\"transposed_apple_balance_sheet.csv\")\n"
      ],
      "metadata": {
        "id": "qtys8D7e7N93"
      },
      "execution_count": 5,
      "outputs": []
    },
    {
      "cell_type": "code",
      "source": [
        "pip install yfinance pandas\n"
      ],
      "metadata": {
        "colab": {
          "base_uri": "https://localhost:8080/"
        },
        "id": "VmKXkfY1ABc_",
        "outputId": "b488af33-06e0-4540-8b7e-e7669e4c8330"
      },
      "execution_count": 1,
      "outputs": [
        {
          "output_type": "stream",
          "name": "stdout",
          "text": [
            "Requirement already satisfied: yfinance in /usr/local/lib/python3.10/dist-packages (0.2.28)\n",
            "Requirement already satisfied: pandas in /usr/local/lib/python3.10/dist-packages (1.5.3)\n",
            "Requirement already satisfied: numpy>=1.16.5 in /usr/local/lib/python3.10/dist-packages (from yfinance) (1.23.5)\n",
            "Requirement already satisfied: requests>=2.31 in /usr/local/lib/python3.10/dist-packages (from yfinance) (2.31.0)\n",
            "Requirement already satisfied: multitasking>=0.0.7 in /usr/local/lib/python3.10/dist-packages (from yfinance) (0.0.11)\n",
            "Requirement already satisfied: lxml>=4.9.1 in /usr/local/lib/python3.10/dist-packages (from yfinance) (4.9.3)\n",
            "Requirement already satisfied: appdirs>=1.4.4 in /usr/local/lib/python3.10/dist-packages (from yfinance) (1.4.4)\n",
            "Requirement already satisfied: pytz>=2022.5 in /usr/local/lib/python3.10/dist-packages (from yfinance) (2023.3)\n",
            "Requirement already satisfied: frozendict>=2.3.4 in /usr/local/lib/python3.10/dist-packages (from yfinance) (2.3.8)\n",
            "Requirement already satisfied: beautifulsoup4>=4.11.1 in /usr/local/lib/python3.10/dist-packages (from yfinance) (4.11.2)\n",
            "Requirement already satisfied: html5lib>=1.1 in /usr/local/lib/python3.10/dist-packages (from yfinance) (1.1)\n",
            "Requirement already satisfied: python-dateutil>=2.8.1 in /usr/local/lib/python3.10/dist-packages (from pandas) (2.8.2)\n",
            "Requirement already satisfied: soupsieve>1.2 in /usr/local/lib/python3.10/dist-packages (from beautifulsoup4>=4.11.1->yfinance) (2.4.1)\n",
            "Requirement already satisfied: six>=1.9 in /usr/local/lib/python3.10/dist-packages (from html5lib>=1.1->yfinance) (1.16.0)\n",
            "Requirement already satisfied: webencodings in /usr/local/lib/python3.10/dist-packages (from html5lib>=1.1->yfinance) (0.5.1)\n",
            "Requirement already satisfied: charset-normalizer<4,>=2 in /usr/local/lib/python3.10/dist-packages (from requests>=2.31->yfinance) (3.2.0)\n",
            "Requirement already satisfied: idna<4,>=2.5 in /usr/local/lib/python3.10/dist-packages (from requests>=2.31->yfinance) (3.4)\n",
            "Requirement already satisfied: urllib3<3,>=1.21.1 in /usr/local/lib/python3.10/dist-packages (from requests>=2.31->yfinance) (2.0.4)\n",
            "Requirement already satisfied: certifi>=2017.4.17 in /usr/local/lib/python3.10/dist-packages (from requests>=2.31->yfinance) (2023.7.22)\n"
          ]
        }
      ]
    },
    {
      "cell_type": "code",
      "source": [
        "import yfinance as yf\n",
        "import pandas as pd\n",
        "\n",
        "# NASDAQ 상장 회사 목록 가져오기\n",
        "nasdaq_listed_companies = pd.read_csv('http://www.nasdaqtrader.com/dynamic/SymDir/nasdaqlisted.txt', sep='|')\n",
        "symbols = nasdaq_listed_companies['Symbol'].dropna().tolist()\n",
        "\n",
        "# 모든 회사의 재무제표를 저장할 빈 DataFrame 생성\n",
        "all_balance_sheets = pd.DataFrame()\n",
        "\n",
        "for symbol in symbols:\n",
        "    try:\n",
        "        ticker = yf.Ticker(symbol)\n",
        "        balance_sheet = ticker.balance_sheet\n",
        "\n",
        "        # DataFrame이 비어 있지 않을 경우에만 데이터 처리\n",
        "        if not balance_sheet.empty:\n",
        "            balance_sheet_transposed = balance_sheet.transpose()\n",
        "            balance_sheet_transposed['Symbol'] = symbol\n",
        "            all_balance_sheets = pd.concat([all_balance_sheets, balance_sheet_transposed])\n",
        "    except Exception as e:\n",
        "        print(f\"Error fetching data for {symbol}: {e}\")\n",
        "        continue\n",
        "\n",
        "all_balance_sheets.to_csv(\"all_nasdaq_balance_sheets_yfinance.csv\")\n"
      ],
      "metadata": {
        "id": "qAMoP0Eo_Lzo"
      },
      "execution_count": null,
      "outputs": []
    },
    {
      "cell_type": "code",
      "source": [],
      "metadata": {
        "id": "9VOIsQh3_4nb"
      },
      "execution_count": null,
      "outputs": []
    }
  ]
}